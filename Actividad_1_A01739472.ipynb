{
  "nbformat": 4,
  "nbformat_minor": 0,
  "metadata": {
    "colab": {
      "provenance": [],
      "authorship_tag": "ABX9TyMqo0RGwhy+ZjCcRqwcToFZ",
      "include_colab_link": true
    },
    "kernelspec": {
      "name": "python3",
      "display_name": "Python 3"
    },
    "language_info": {
      "name": "python"
    }
  },
  "cells": [
    {
      "cell_type": "markdown",
      "metadata": {
        "id": "view-in-github",
        "colab_type": "text"
      },
      "source": [
        "<a href=\"https://colab.research.google.com/github/alecp-23/tc1002s_st/blob/main/Actividad_1_A01739472.ipynb\" target=\"_parent\"><img src=\"https://colab.research.google.com/assets/colab-badge.svg\" alt=\"Open In Colab\"/></a>"
      ]
    },
    {
      "cell_type": "markdown",
      "source": [
        "ACTIVIDAD DE NUMPY"
      ],
      "metadata": {
        "id": "5UP7muRYQBSG"
      }
    },
    {
      "cell_type": "code",
      "execution_count": null,
      "metadata": {
        "colab": {
          "base_uri": "https://localhost:8080/"
        },
        "id": "JYuVFpmP12en",
        "outputId": "eed154ec-f3bc-4aec-a927-28183ed2bf14"
      },
      "outputs": [
        {
          "output_type": "stream",
          "name": "stdout",
          "text": [
            "[5 5 5 5 5 5 5 5 5 5]\n"
          ]
        }
      ],
      "source": [
        "#1\n",
        "import numpy as np\n",
        "arr=np.array([5,5,5,5,5,5,5,5,5,5])\n",
        "print(arr)\n",
        "#"
      ]
    },
    {
      "cell_type": "code",
      "source": [
        "#Crea un arreglo de enteros pares desde 10, inclusive, hasta 50, inclusive.\n",
        "arr=np.arange(10,51,2)\n",
        "print(arr)"
      ],
      "metadata": {
        "colab": {
          "base_uri": "https://localhost:8080/"
        },
        "id": "pYnRQMgA2azd",
        "outputId": "78f410d9-1529-434d-c785-743d14bd2082"
      },
      "execution_count": null,
      "outputs": [
        {
          "output_type": "stream",
          "name": "stdout",
          "text": [
            "[10 12 14 16 18 20 22 24 26 28 30 32 34 36 38 40 42 44 46 48 50]\n"
          ]
        }
      ]
    },
    {
      "cell_type": "code",
      "source": [
        "#3. Crea una matriz cuadrada de 4 por 4 de números enteros aleatorios.\n",
        "arr=np.random.randint(1,100,(4,4))\n",
        "print(arr)"
      ],
      "metadata": {
        "colab": {
          "base_uri": "https://localhost:8080/"
        },
        "id": "oBfNMceG2jXV",
        "outputId": "7dbf0fd8-cc86-4f10-a90c-70a3f4ff5416"
      },
      "execution_count": null,
      "outputs": [
        {
          "output_type": "stream",
          "name": "stdout",
          "text": [
            "[[87 34 96 40]\n",
            " [54 87 23 78]\n",
            " [ 2 68 60  1]\n",
            " [38 13 80 33]]\n"
          ]
        }
      ]
    },
    {
      "cell_type": "code",
      "source": [
        "#4. Genera un arreglo de 10 números aleatorios entre 0 y 1 y calcula la suma de todos sus elementos.\n",
        "arr=np.random.rand(10)\n",
        "print(arr)\n",
        "print(np.sum(arr))"
      ],
      "metadata": {
        "colab": {
          "base_uri": "https://localhost:8080/"
        },
        "id": "zZyA12CI2rQG",
        "outputId": "6c845afe-8738-45c8-fb69-aec2ae3a985b"
      },
      "execution_count": null,
      "outputs": [
        {
          "output_type": "stream",
          "name": "stdout",
          "text": [
            "[0.08710533 0.35883295 0.75610949 0.27177549 0.39499386 0.27933708\n",
            " 0.2049119  0.7813877  0.61952503 0.72195139]\n",
            "4.475930213254921\n"
          ]
        }
      ]
    },
    {
      "cell_type": "code",
      "source": [
        "#5. Genera un arreglo de 10 números aleatorios entre 0 y 1 y calcula su media.\n",
        "arr=np.random.rand(10)\n",
        "print(arr)\n",
        "print(np.mean(arr))"
      ],
      "metadata": {
        "colab": {
          "base_uri": "https://localhost:8080/"
        },
        "id": "OT5mjSFj2yzA",
        "outputId": "55c902b9-339b-4529-8acb-1811fb916c5f"
      },
      "execution_count": null,
      "outputs": [
        {
          "output_type": "stream",
          "name": "stdout",
          "text": [
            "[0.76853772 0.91730546 0.23060152 0.88830425 0.33381265 0.91761027\n",
            " 0.87822206 0.2925838  0.09434834 0.28689982]\n",
            "0.5608225884232549\n"
          ]
        }
      ]
    }
  ]
}