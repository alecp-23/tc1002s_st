{
  "nbformat": 4,
  "nbformat_minor": 0,
  "metadata": {
    "colab": {
      "provenance": [],
      "authorship_tag": "ABX9TyNqE0QZ59N4brk3AuXAWrql",
      "include_colab_link": true
    },
    "kernelspec": {
      "name": "python3",
      "display_name": "Python 3"
    },
    "language_info": {
      "name": "python"
    }
  },
  "cells": [
    {
      "cell_type": "markdown",
      "metadata": {
        "id": "view-in-github",
        "colab_type": "text"
      },
      "source": [
        "<a href=\"https://colab.research.google.com/github/alecp-23/tc1002s_st/blob/main/Actividad_2_A01739472.ipynb\" target=\"_parent\"><img src=\"https://colab.research.google.com/assets/colab-badge.svg\" alt=\"Open In Colab\"/></a>"
      ]
    },
    {
      "cell_type": "markdown",
      "source": [
        "ACTIVIDAD DE PANDAS"
      ],
      "metadata": {
        "id": "2m11_k5K3ry2"
      }
    },
    {
      "cell_type": "code",
      "source": [
        "#dataframe ficticio de ventas de frutas\n",
        "import pandas as pd\n",
        "df = pd.DataFrame({'Product': ['Carrots', 'Broccoli', 'Banana', 'Banana',\n",
        "\n",
        " 'Beans', 'Orange', 'Broccoli', 'Banana'],\n",
        "\n",
        " 'Category': ['Vegetable', 'Vegetable', 'Fruit', 'Fruit',\n",
        "\n",
        " 'Vegetable', 'Fruit', 'Vegetable', 'Fruit'],\n",
        "\n",
        " 'Quantity': [8, 5, 3, 4, 5, 9, 11, 8],\n",
        "\n",
        " 'Amount': [270, 239, 617, 384, 626, 610, 62, 90]})\n",
        "\n",
        "print(df)"
      ],
      "metadata": {
        "colab": {
          "base_uri": "https://localhost:8080/"
        },
        "id": "pF9xpSmn3xbe",
        "outputId": "66cc0dd5-cfbc-4d41-c92b-37f221b24c30"
      },
      "execution_count": null,
      "outputs": [
        {
          "output_type": "stream",
          "name": "stdout",
          "text": [
            "    Product   Category  Quantity  Amount\n",
            "0   Carrots  Vegetable         8     270\n",
            "1  Broccoli  Vegetable         5     239\n",
            "2    Banana      Fruit         3     617\n",
            "3    Banana      Fruit         4     384\n",
            "4     Beans  Vegetable         5     626\n",
            "5    Orange      Fruit         9     610\n",
            "6  Broccoli  Vegetable        11      62\n",
            "7    Banana      Fruit         8      90\n"
          ]
        }
      ]
    },
    {
      "cell_type": "code",
      "source": [
        "#2. Selecciona e imprime las columnas de Product y Quantity.\n",
        "print(df[['Product', 'Quantity']])"
      ],
      "metadata": {
        "colab": {
          "base_uri": "https://localhost:8080/"
        },
        "id": "a9EqNIth36NW",
        "outputId": "fd44d99c-d63b-4cac-b1fe-b2f8c471037a"
      },
      "execution_count": null,
      "outputs": [
        {
          "output_type": "stream",
          "name": "stdout",
          "text": [
            "    Product  Quantity\n",
            "0   Carrots         8\n",
            "1  Broccoli         5\n",
            "2    Banana         3\n",
            "3    Banana         4\n",
            "4     Beans         5\n",
            "5    Orange         9\n",
            "6  Broccoli        11\n",
            "7    Banana         8\n"
          ]
        }
      ]
    },
    {
      "cell_type": "code",
      "source": [
        "#3. . Selecciona e imprime los renglones con índices 4 y 6.\n",
        "print(df.iloc[[4, 6]])"
      ],
      "metadata": {
        "colab": {
          "base_uri": "https://localhost:8080/"
        },
        "id": "5wBSaePWvIdZ",
        "outputId": "18f1738e-bf49-4a34-b3aa-1700590208a7"
      },
      "execution_count": null,
      "outputs": [
        {
          "output_type": "stream",
          "name": "stdout",
          "text": [
            "    Product   Category  Quantity  Amount\n",
            "4     Beans  Vegetable         5     626\n",
            "6  Broccoli  Vegetable        11      62\n"
          ]
        }
      ]
    },
    {
      "cell_type": "code",
      "source": [
        "#4. Usando el método groupby, agrupa usando la columna Product y muestra la suma de la columna Quantity.\n",
        "print(df.groupby('Product')['Quantity'].sum())"
      ],
      "metadata": {
        "colab": {
          "base_uri": "https://localhost:8080/"
        },
        "id": "6yLPKuU-vXlJ",
        "outputId": "4c6c1f81-8af1-4203-fc6a-86b96af061f3"
      },
      "execution_count": null,
      "outputs": [
        {
          "output_type": "stream",
          "name": "stdout",
          "text": [
            "Product\n",
            "Banana      15\n",
            "Beans        5\n",
            "Broccoli    16\n",
            "Carrots      8\n",
            "Orange       9\n",
            "Name: Quantity, dtype: int64\n"
          ]
        }
      ]
    },
    {
      "cell_type": "code",
      "source": [
        "#5.  Usando el método groupby, agrupa usando la columna Categoryy muestra la suma de la columna Amount.\n",
        "print(df.groupby('Category')['Amount'].sum())"
      ],
      "metadata": {
        "id": "UEbEmaRTvfGc",
        "outputId": "1f3b7dde-38dd-4232-97f6-55b42f3a77aa",
        "colab": {
          "base_uri": "https://localhost:8080/"
        }
      },
      "execution_count": null,
      "outputs": [
        {
          "output_type": "stream",
          "name": "stdout",
          "text": [
            "Category\n",
            "Fruit        1701\n",
            "Vegetable    1197\n",
            "Name: Amount, dtype: int64\n"
          ]
        }
      ]
    }
  ]
}